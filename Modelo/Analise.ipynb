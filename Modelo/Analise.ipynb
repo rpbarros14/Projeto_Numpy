{
 "cells": [
  {
   "cell_type": "code",
   "execution_count": 2,
   "metadata": {},
   "outputs": [],
   "source": [
    "import numpy as np"
   ]
  },
  {
   "cell_type": "code",
   "execution_count": 33,
   "metadata": {},
   "outputs": [],
   "source": [
    "ids = np.loadtxt(\"C:\\\\Users\\\\rpbarros\\\\Documents\\\\Curso Alura\\\\Projeto Numpy\\\\Dados\\\\ids.txt\", dtype= \"i\")\n",
    "idades = np.loadtxt('C:\\\\Users\\\\rpbarros\\\\Documents\\\\Curso Alura\\\\Projeto Numpy\\\\Dados\\\\idades.txt', dtype= \"i\")\n",
    "sexos = np.loadtxt('C:\\\\Users\\\\rpbarros\\\\Documents\\\\Curso Alura\\\\Projeto Numpy\\\\Dados\\\\sexos.txt', dtype=np.unicode_)\n",
    "estados_civis = np.loadtxt('C:\\\\Users\\\\rpbarros\\\\Documents\\\\Curso Alura\\\\Projeto Numpy\\\\Dados\\\\estados_civis.txt', dtype=np.unicode_)\n",
    "sinistros = np.loadtxt('C:\\\\Users\\\\rpbarros\\\\Documents\\\\Curso Alura\\\\Projeto Numpy\\\\Dados\\\\sinistros.txt', dtype= \"i\")\n",
    "premios = np.loadtxt('C:\\\\Users\\\\rpbarros\\\\Documents\\\\Curso Alura\\\\Projeto Numpy\\\\Dados\\\\premios.txt')\n",
    "\n",
    "dataset = np.column_stack((ids, idades, sexos, estados_civis, sinistros, premios))"
   ]
  },
  {
   "cell_type": "code",
   "execution_count": 36,
   "metadata": {},
   "outputs": [
    {
     "data": {
      "text/plain": [
       "75"
      ]
     },
     "execution_count": 36,
     "metadata": {},
     "output_type": "execute_result"
    }
   ],
   "source": [
    "def idade_superior_30 (array_idade):\n",
    "    aux = array_idade[array_idade>30]\n",
    "    return aux.shape[0]\n",
    "\n",
    "idade_superior_30(idades)"
   ]
  },
  {
   "cell_type": "code",
   "execution_count": 35,
   "metadata": {},
   "outputs": [
    {
     "data": {
      "text/plain": [
       "array([1459., 1332.,  343., 1215., 1184.,  459.,  474.,  699.,  189.,\n",
       "        957.,  831., 1154.,  387.,  600.,  315.,  564.,  897.,  508.,\n",
       "       1411.,  565., 1500.,  201., 1294.,  455., 1016.,  878., 1076.])"
      ]
     },
     "execution_count": 35,
     "metadata": {},
     "output_type": "execute_result"
    }
   ],
   "source": [
    "def clientes_sem_sinistro_e_premio_maior_1000(array_ids, array_sinistro, array_premio):\n",
    "    dados = np.column_stack((array_ids, array_sinistro, array_premio))\n",
    "    aux = dados[(array_sinistro == 0) & (array_premio > 1000)]\n",
    "    return aux[:,0]\n",
    "\n",
    "clientes_sem_sinistro_e_premio_maior_1000(ids, sinistros, premios)"
   ]
  },
  {
   "cell_type": "code",
   "execution_count": 37,
   "metadata": {},
   "outputs": [
    {
     "name": "stdout",
     "output_type": "stream",
     "text": [
      "Faixa etária 18-30: 25\n",
      "Faixa etária 31-45: 17\n",
      "Faixa etária 46-60: 20\n",
      "Faixa etária mais de 60: 38\n"
     ]
    }
   ],
   "source": [
    "def perfil_etario_clientes(array_idade):\n",
    "    faixas_etarias = [18, 31, 46, 61, np.inf] # Definindo as faixas etárias\n",
    "    labels = ['18-30', '31-45', '46-60', 'mais de 60'] # Definindo os labels para cada faixa etária\n",
    "\n",
    "    hist, bins = np.histogram(array_idade, bins=faixas_etarias)\n",
    "\n",
    "    for i in range(len(hist)):\n",
    "        print(f'Faixa etária {labels[i]}: {hist[i]}')\n",
    "    \n",
    "perfil_etario_clientes(idades)    "
   ]
  },
  {
   "cell_type": "code",
   "execution_count": 42,
   "metadata": {},
   "outputs": [
    {
     "name": "stdout",
     "output_type": "stream",
     "text": [
      "casado: 1190.53\n",
      "solteiro: 1387.66\n",
      "divorciado: 1155.31\n",
      "viuvo: 1195.62\n"
     ]
    }
   ],
   "source": [
    "def premio_por_estado_civil(array_premio, array_estado_civil):\n",
    "    premio_casado = array_premio[(array_estado_civil == 'casado')].mean()\n",
    "    premio_solteiro = array_premio[(array_estado_civil == 'solteiro')].mean()\n",
    "    premio_divorciado = array_premio[(array_estado_civil == 'divorciado')].mean()\n",
    "    premio_viuvo = array_premio[(array_estado_civil == 'viuvo')].mean()\n",
    "\n",
    "    aux = np.array((premio_casado, premio_solteiro, premio_divorciado, premio_viuvo))\n",
    "\n",
    "    labels = ['casado','solteiro',  'divorciado', 'viuvo']\n",
    "    for i in range(len(aux)):\n",
    "        print(f'{labels[i]}: {round(aux[i],2)}')\n",
    "\n",
    "\n",
    "premio_por_estado_civil(premios, estados_civis)"
   ]
  },
  {
   "cell_type": "code",
   "execution_count": 43,
   "metadata": {},
   "outputs": [
    {
     "data": {
      "text/plain": [
       "array([1126., 1459.,  860., 1294., 1095.,  330., 1482.,   87., 1332.,\n",
       "        769.,  343., 1437.,  805.,  385., 1215.,  459.,  856.,  474.,\n",
       "        686.,  957.,  831., 1528., 1154., 1508.,  840., 1297.,  387.,\n",
       "        600.,   13.,  776., 1369.,  897., 1363.,  508.,  205., 1411.,\n",
       "       1413.,  565., 1129., 1500.,  702.,  161.,  201.,  995., 1294.,\n",
       "       1485., 1275.,  295.,  719.,  878., 1076.])"
      ]
     },
     "execution_count": 43,
     "metadata": {},
     "output_type": "execute_result"
    }
   ],
   "source": [
    "def clientes_premio_acima_media(array_ids, array_premio):\n",
    "    dados = np.column_stack((array_ids, array_premio))\n",
    "    aux = dados[(array_premio > array_premio.mean())]\n",
    "    return aux[:,0]\n",
    "\n",
    "clientes_premio_acima_media(ids, premios)"
   ]
  }
 ],
 "metadata": {
  "kernelspec": {
   "display_name": "base",
   "language": "python",
   "name": "python3"
  },
  "language_info": {
   "codemirror_mode": {
    "name": "ipython",
    "version": 3
   },
   "file_extension": ".py",
   "mimetype": "text/x-python",
   "name": "python",
   "nbconvert_exporter": "python",
   "pygments_lexer": "ipython3",
   "version": "3.9.13"
  },
  "orig_nbformat": 4
 },
 "nbformat": 4,
 "nbformat_minor": 2
}
